{
 "cells": [
  {
   "cell_type": "markdown",
   "metadata": {},
   "source": [
    "Playing Cards\n",
    "\n",
    "A standard deck of playing cards has four suits (Hearts, Diamonds, Spades and Clubs) and thirteen ranks (2 through 10, then the face cards Jack, Queen, King and Ace) for a total of 52 cards per deck. Jacks, Queens and Kings all have a rank of 10. Aces have a rank of either 11 or 1 as needed to reach 21 without busting. As a starting point in your program, you may want to assign variables to store a list of suits, ranks, and then use a dictionary to map ranks to values.\n"
   ]
  },
  {
   "cell_type": "markdown",
   "metadata": {},
   "source": [
    "## The Game\n",
    "### Imports and Global Variables\n",
    "** Step 1: Import the random module. This will be used to shuffle the deck prior to dealing. Then, declare variables to store suits, ranks and values. You can develop your own system, or copy ours below. Finally, declare a Boolean value to be used to control <code>while</code> loops. This is a common practice used to control the flow of the game."
   ]
  },
  {
   "cell_type": "code",
   "execution_count": 1,
   "metadata": {},
   "outputs": [],
   "source": [
    "import random\n",
    "\n",
    "suits = ('Hearts', 'Diamonds', 'Spades', 'Clubs')\n",
    "ranks = ('Two', 'Three', 'Four', 'Five', 'Six', 'Seven', 'Eight', 'Nine', 'Ten', 'Jack', 'Queen', 'King', 'Ace')\n",
    "values = {'Two':2, 'Three':3, 'Four':4, 'Five':5, 'Six':6, 'Seven':7, 'Eight':8, 'Nine':9, 'Ten':10, 'Jack':10,\n",
    "             'Queen':10, 'King':10, 'Ace':11}\n",
    "playing = True"
   ]
  },
  {
   "cell_type": "markdown",
   "metadata": {},
   "source": [
    "Class Definitions\n",
    "\n",
    "Consider making a Card class where each Card object has a suit and a rank, then a Deck class to hold all 52 Card objects, and can be shuffled, and finally a Hand class that holds those Cards that have been dealt to each player from the Deck.\n",
    "\n",
    "Step 2: Create a Card Class:\n",
    "A Card object really only needs two attributes: suit and rank. You might add an attribute for \"value\" - we chose to handle value later when developing our Hand class."
   ]
  },
  {
   "cell_type": "code",
   "execution_count": 2,
   "metadata": {},
   "outputs": [],
   "source": [
    "class Card:\n",
    "    \n",
    "    def __init__(self,suit,rank):\n",
    "        self.suit = suit\n",
    "        self.rank = rank\n",
    "    \n",
    "    def __str__(self):\n",
    "        return self.rank + \" of \" + self.suit"
   ]
  },
  {
   "cell_type": "markdown",
   "metadata": {},
   "source": [
    "Step 3: Create a Deck Class\n",
    "Here we might store 52 card objects in a list that can later be shuffled. First, though, we need to instantiate all 52 unique card objects and add them to our list. So long as the Card class definition appears in our code, we can build Card objects inside our Deck __init__ method. Consider iterating over sequences of suits and ranks to build out each card. This might appear inside a Deck class __init__ method:"
   ]
  },
  {
   "cell_type": "code",
   "execution_count": 3,
   "metadata": {},
   "outputs": [],
   "source": [
    "class Deck:\n",
    "    \n",
    "    def __init__(self):\n",
    "        self.deck = []  # start with an empty list\n",
    "        for suit in suits:\n",
    "            for rank in ranks:\n",
    "                self.deck.append(Card(suit,rank))\n",
    "    \n",
    "    def __str__(self):\n",
    "        deck_comp = ''\n",
    "        for card in self.deck:\n",
    "            deck_comp += '\\n' + card.__str__()\n",
    "        return \"The Deck has: \" + deck_comp\n",
    "\n",
    "    def shuffle(self):\n",
    "        random.shuffle(self.deck)\n",
    "        \n",
    "    def deal(self):\n",
    "        single_card =  self.deck.pop()\n",
    "        return single_card"
   ]
  },
  {
   "cell_type": "markdown",
   "metadata": {},
   "source": [
    "TESTING: Just to see that everything works so far, let's see what our Deck looks like!"
   ]
  },
  {
   "cell_type": "code",
   "execution_count": 4,
   "metadata": {},
   "outputs": [
    {
     "name": "stdout",
     "output_type": "stream",
     "text": [
      "The Deck has: \n",
      "Five of Hearts\n",
      "Seven of Hearts\n",
      "Five of Spades\n",
      "King of Spades\n",
      "Jack of Hearts\n",
      "Two of Hearts\n",
      "Ace of Diamonds\n",
      "Jack of Spades\n",
      "Three of Hearts\n",
      "Seven of Diamonds\n",
      "King of Hearts\n",
      "Ten of Spades\n",
      "Eight of Hearts\n",
      "Six of Clubs\n",
      "Three of Diamonds\n",
      "Four of Spades\n",
      "Nine of Diamonds\n",
      "Three of Clubs\n",
      "Six of Diamonds\n",
      "Eight of Spades\n",
      "Five of Diamonds\n",
      "Ten of Clubs\n",
      "Queen of Spades\n",
      "Five of Clubs\n",
      "Two of Spades\n",
      "Four of Hearts\n",
      "Seven of Spades\n",
      "Two of Diamonds\n",
      "Queen of Diamonds\n",
      "Ace of Clubs\n",
      "Ace of Hearts\n",
      "Two of Clubs\n",
      "Nine of Spades\n",
      "Queen of Clubs\n",
      "Ace of Spades\n",
      "King of Diamonds\n",
      "Six of Spades\n",
      "Eight of Diamonds\n",
      "Four of Clubs\n",
      "Queen of Hearts\n",
      "Ten of Diamonds\n",
      "Ten of Hearts\n",
      "Jack of Diamonds\n",
      "King of Clubs\n",
      "Six of Hearts\n",
      "Four of Diamonds\n",
      "Nine of Clubs\n",
      "Three of Spades\n",
      "Seven of Clubs\n",
      "Jack of Clubs\n",
      "Eight of Clubs\n",
      "Nine of Hearts\n"
     ]
    }
   ],
   "source": [
    "test_deck = Deck()\n",
    "test_deck.shuffle()\n",
    "print(test_deck)"
   ]
  },
  {
   "cell_type": "markdown",
   "metadata": {},
   "source": [
    "Step 4: Create a Hand Class\n",
    "In addition to holding Card objects dealt from the Deck, the Hand class may be used to calculate the value of those cards using the values dictionary defined above. It may also need to adjust for the value of Aces when appropriate."
   ]
  },
  {
   "cell_type": "code",
   "execution_count": 5,
   "metadata": {},
   "outputs": [],
   "source": [
    "class Hand:\n",
    "    def __init__(self):\n",
    "        self.cards = []  # start with an empty list as we did in the Deck class\n",
    "        self.value = 0   # start with zero value\n",
    "        self.aces = 0    # add an attribute to keep track of aces\n",
    "    \n",
    "    def add_card(self,card):\n",
    "        self.cards.append(card)\n",
    "        self.value += values[card.rank]\n",
    "        \n",
    "        #Track Aces \n",
    "        \n",
    "        if card.rank == 'Ace':\n",
    "            self.aces += 1\n",
    "    \n",
    "    def adjust_for_ace(self):\n",
    "        \n",
    "        while self.value > 21 and self.aces > 0:\n",
    "            self.value -= 10\n",
    "            self.aces -= 1"
   ]
  },
  {
   "cell_type": "code",
   "execution_count": 6,
   "metadata": {},
   "outputs": [
    {
     "name": "stdout",
     "output_type": "stream",
     "text": [
      "Nine of Diamonds\n",
      "9\n"
     ]
    }
   ],
   "source": [
    "#Instance of Deck..\n",
    "test_deck = Deck()\n",
    "test_deck.shuffle()\n",
    "\n",
    "#Human Player..\n",
    "\n",
    "test_player = Hand()\n",
    "#Deal one card from Deck.. Card(suit,rank)..\n",
    "pulled_card = test_deck.deal()\n",
    "print(pulled_card)\n",
    "test_player.add_card(pulled_card)\n",
    "print(test_player.value)"
   ]
  },
  {
   "cell_type": "markdown",
   "metadata": {},
   "source": [
    "Step 5: Create a Chips Class\n",
    "In addition to decks of cards and hands, we need to keep track of a Player's starting chips, bets, and ongoing winnings. This could be done using global variables, but in the spirit of object oriented programming, let's make a Chips class instead!"
   ]
  },
  {
   "cell_type": "code",
   "execution_count": 7,
   "metadata": {},
   "outputs": [],
   "source": [
    "class Chips:\n",
    "    \n",
    "    def __init__(self,total = 100):\n",
    "        self.total = total  # This can be set to a default value or supplied by a user input\n",
    "        self.bet = 0\n",
    "        \n",
    "    def win_bet(self):\n",
    "        self.total += self.bet\n",
    "    \n",
    "    def lose_bet(self):\n",
    "        self.total-= self.bet"
   ]
  },
  {
   "cell_type": "markdown",
   "metadata": {},
   "source": [
    "Step 6: Write a function for taking bets\n",
    "Since we're asking the user for an integer value, this would be a good place to use try/except. Remember to check that a Player's bet can be covered by their available chips.\n"
   ]
  },
  {
   "cell_type": "code",
   "execution_count": 8,
   "metadata": {},
   "outputs": [],
   "source": [
    "def take_bet(chips):\n",
    "    while True:\n",
    "        \n",
    "        try:\n",
    "            chips.bet = int(input(\"How many Chips would you like to bet? \"))\n",
    "        except:\n",
    "            print(\"Please provide an Integer!\")\n",
    "        else:\n",
    "            if chips.bet > chips.total:\n",
    "                print(\"Sorry you don't have enough chips! You Have : {}\".format(chips.total))\n",
    "            else:\n",
    "                break"
   ]
  },
  {
   "cell_type": "markdown",
   "metadata": {},
   "source": [
    "Step 7: Write a function for taking hits"
   ]
  },
  {
   "cell_type": "code",
   "execution_count": 15,
   "metadata": {},
   "outputs": [],
   "source": [
    "def hit(deck,hand):\n",
    "    single_card = deck.deal()\n",
    "    hand.add_card(single_card)\n",
    "    hand.adjust_for_ace()"
   ]
  },
  {
   "cell_type": "markdown",
   "metadata": {},
   "source": [
    "Step 8: Write a function prompting the Player to Hit or Stand"
   ]
  },
  {
   "cell_type": "code",
   "execution_count": 16,
   "metadata": {},
   "outputs": [],
   "source": [
    "def hit_or_stand(deck,hand):\n",
    "    global playing  # to control an upcoming while loop\n",
    "    \n",
    "    while True:\n",
    "        x = input(\"Hit or Stand? Enter h or s \")\n",
    "        \n",
    "        if x[0].lower() == 'h':\n",
    "            hit(deck,hand)\n",
    "        elif x[0].lower() == 's':\n",
    "            print(\"Player STANDS Dealer's turn\")\n",
    "            playing = False\n",
    "            \n",
    "        else:\n",
    "            print(\"Please enter h or s only\")\n",
    "            continue\n",
    "        break"
   ]
  },
  {
   "cell_type": "markdown",
   "metadata": {},
   "source": [
    "Step 9: Write functions to display cards"
   ]
  },
  {
   "cell_type": "code",
   "execution_count": 17,
   "metadata": {},
   "outputs": [],
   "source": [
    "def show_some(player,dealer):\n",
    "    print('DEALERS HAND:')\n",
    "    print('One Card Hidden!')\n",
    "    print(dealer.cards[1])\n",
    "    print('\\n')\n",
    "    print('PLAYERS HAND:')\n",
    "    for card in player.cards:\n",
    "        print(card)\n",
    "    \n",
    "def show_all(player,dealer):\n",
    "    print('DEALERS HAND:')\n",
    "    for card in dealer.cards:\n",
    "        print(card)\n",
    "    print('\\n')\n",
    "    print('PLAYERS HAND:')\n",
    "    for card in player.cards:\n",
    "        print(card)"
   ]
  },
  {
   "cell_type": "markdown",
   "metadata": {},
   "source": [
    "Step 10: Write functions to handle end of game scenarios"
   ]
  },
  {
   "cell_type": "code",
   "execution_count": 18,
   "metadata": {},
   "outputs": [],
   "source": [
    "def player_busts(player,dealer,chips):\n",
    "    print(\"BUST_PLAYER!\")\n",
    "    chips.lose_bet()\n",
    "\n",
    "def player_wins(player,dealer,chips):\n",
    "    print(\"Player Wins!\")\n",
    "    chips.win_bet()\n",
    "\n",
    "def dealer_busts(player,dealer,chips):\n",
    "    print(\"Player Wins! Dealer Busted!\")\n",
    "    chips.win_bet()\n",
    "    \n",
    "def dealer_wins(player,dealer,chips):\n",
    "    print(\"Dealer Wins! \")\n",
    "    chips.lose_bet()\n",
    "    \n",
    "def push(player,dealer):\n",
    "    print('Dewaler and Player Tie.! Pushh!!')"
   ]
  },
  {
   "cell_type": "markdown",
   "metadata": {},
   "source": [
    "# And now on to the game!!"
   ]
  },
  {
   "cell_type": "code",
   "execution_count": 19,
   "metadata": {},
   "outputs": [
    {
     "name": "stdout",
     "output_type": "stream",
     "text": [
      "Welcome to Black JAck\n",
      "How many Chips would you like to bet? 50\n",
      "DEALERS HAND:\n",
      "One Card Hidden!\n",
      "Queen of Spades\n",
      "\n",
      "\n",
      "PLAYERS HAND:\n",
      "Eight of Spades\n",
      "Three of Spades\n",
      "Hit or Stand? Enter h or s h\n",
      "DEALERS HAND:\n",
      "One Card Hidden!\n",
      "Queen of Spades\n",
      "\n",
      "\n",
      "PLAYERS HAND:\n",
      "Eight of Spades\n",
      "Three of Spades\n",
      "Six of Diamonds\n",
      "Hit or Stand? Enter h or s h\n",
      "DEALERS HAND:\n",
      "One Card Hidden!\n",
      "Queen of Spades\n",
      "\n",
      "\n",
      "PLAYERS HAND:\n",
      "Eight of Spades\n",
      "Three of Spades\n",
      "Six of Diamonds\n",
      "Four of Spades\n",
      "Hit or Stand? Enter h or s s\n",
      "Player STANDS Dealer's turn\n",
      "DEALERS HAND:\n",
      "One Card Hidden!\n",
      "Queen of Spades\n",
      "\n",
      "\n",
      "PLAYERS HAND:\n",
      "Eight of Spades\n",
      "Three of Spades\n",
      "Six of Diamonds\n",
      "Four of Spades\n",
      "DEALERS HAND:\n",
      "Ten of Diamonds\n",
      "Queen of Spades\n",
      "\n",
      "\n",
      "PLAYERS HAND:\n",
      "Eight of Spades\n",
      "Three of Spades\n",
      "Six of Diamonds\n",
      "Four of Spades\n",
      "Player Wins!\n",
      "Player total chips are at: 150\n",
      "You want to play again? Y/N:n\n",
      "Thank You for playing!!\n"
     ]
    }
   ],
   "source": [
    "while True:\n",
    "    # Print an opening statement\n",
    "\n",
    "    print(\"Welcome to Black JAck\")\n",
    "    # Create & shuffle the deck, deal two cards to each player\n",
    "    deck = Deck()\n",
    "    deck.shuffle()\n",
    "    \n",
    "    player_hand = Hand()\n",
    "    player_hand.add_card(deck.deal())\n",
    "    player_hand.add_card(deck.deal())\n",
    "    \n",
    "    dealer_hand = Hand()\n",
    "    dealer_hand.add_card(deck.deal())\n",
    "    dealer_hand.add_card(deck.deal())\n",
    "    \n",
    "    \n",
    "        \n",
    "    # Set up the Player's chips\n",
    "    player_chips = Chips()\n",
    "    \n",
    "    # Prompt the Player for their bet\n",
    "    take_bet(player_chips)\n",
    "    \n",
    "    # Show cards (but keep one dealer card hidden)\n",
    "    show_some(player_hand,dealer_hand)\n",
    "    \n",
    "    while playing:  # recall this variable from our hit_or_stand function\n",
    "        \n",
    "        # Prompt for Player to Hit or Stand\n",
    "        hit_or_stand(deck,player_hand)\n",
    "        \n",
    "        # Show cards (but keep one dealer card hidden)\n",
    "        show_some(player_hand,dealer_hand)\n",
    "        \n",
    "        # If player's hand exceeds 21, run player_busts() and break out of loop\n",
    "        if player_hand.value > 21:\n",
    "            player_busts(player_hand,dealer_hand,player_chips)\n",
    "\n",
    "            break\n",
    "\n",
    "    # If Player hasn't busted, play Dealer's hand until Dealer reaches 17\n",
    "    if player_hand.value <= 21:\n",
    "        while dealer_hand.value < 17:\n",
    "            hit(deck,dealer_hand)\n",
    "    \n",
    "        # Show all cards\n",
    "        show_all(player_hand,dealer_hand)\n",
    "        \n",
    "        # Run different winning scenarios\n",
    "        if dealer_hand.value > 21:\n",
    "            dealer_busts(player_hand,dealer_hand,player_chips)\n",
    "        \n",
    "        elif dealer_hand.value > player_hand.value:\n",
    "            dealer_wins(player_hand,dealer_hand,player_chips)\n",
    "       \n",
    "        elif dealer_hand.value < player_hand.value:\n",
    "            player_wins(player_hand,dealer_hand,player_chips)\n",
    "        \n",
    "        else:\n",
    "            push(player_hand,dealer_hand)\n",
    "    \n",
    "    # Inform Player of their chips total \n",
    "    print(f\"Player total chips are at: {player_chips.total}\")\n",
    "    # Ask to play again\n",
    "    new_game = input(\"You want to play again? Y/N:\")\n",
    "    \n",
    "    if new_game[0] == \"Y\":\n",
    "        playing = True\n",
    "        continue\n",
    "        \n",
    "    else:\n",
    "        print(\"Thank You for playing!!\")\n",
    "        break"
   ]
  },
  {
   "cell_type": "code",
   "execution_count": null,
   "metadata": {},
   "outputs": [],
   "source": []
  }
 ],
 "metadata": {
  "kernelspec": {
   "display_name": "Python 3",
   "language": "python",
   "name": "python3"
  },
  "language_info": {
   "codemirror_mode": {
    "name": "ipython",
    "version": 3
   },
   "file_extension": ".py",
   "mimetype": "text/x-python",
   "name": "python",
   "nbconvert_exporter": "python",
   "pygments_lexer": "ipython3",
   "version": "3.7.6"
  }
 },
 "nbformat": 4,
 "nbformat_minor": 4
}
